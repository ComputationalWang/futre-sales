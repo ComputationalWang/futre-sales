{
 "cells": [
  {
   "cell_type": "markdown",
   "id": "0a206ae8",
   "metadata": {},
   "source": [
    "# Future sales predictor - Kaggle"
   ]
  },
  {
   "cell_type": "code",
   "execution_count": 4,
   "id": "bd403f07",
   "metadata": {},
   "outputs": [],
   "source": [
    "import pandas as pd\n",
    "import numpy as np"
   ]
  },
  {
   "cell_type": "code",
   "execution_count": 57,
   "id": "649bbb91",
   "metadata": {},
   "outputs": [
    {
     "data": {
      "text/html": [
       "<div>\n",
       "<style scoped>\n",
       "    .dataframe tbody tr th:only-of-type {\n",
       "        vertical-align: middle;\n",
       "    }\n",
       "\n",
       "    .dataframe tbody tr th {\n",
       "        vertical-align: top;\n",
       "    }\n",
       "\n",
       "    .dataframe thead th {\n",
       "        text-align: right;\n",
       "    }\n",
       "</style>\n",
       "<table border=\"1\" class=\"dataframe\">\n",
       "  <thead>\n",
       "    <tr style=\"text-align: right;\">\n",
       "      <th></th>\n",
       "      <th>date</th>\n",
       "      <th>date_block_num</th>\n",
       "      <th>shop_id</th>\n",
       "      <th>item_id</th>\n",
       "      <th>item_price</th>\n",
       "      <th>item_count</th>\n",
       "    </tr>\n",
       "  </thead>\n",
       "  <tbody>\n",
       "    <tr>\n",
       "      <th>0</th>\n",
       "      <td>02.01.2013</td>\n",
       "      <td>0</td>\n",
       "      <td>59</td>\n",
       "      <td>22154</td>\n",
       "      <td>999.00</td>\n",
       "      <td>1</td>\n",
       "    </tr>\n",
       "    <tr>\n",
       "      <th>1</th>\n",
       "      <td>03.01.2013</td>\n",
       "      <td>0</td>\n",
       "      <td>25</td>\n",
       "      <td>2552</td>\n",
       "      <td>899.00</td>\n",
       "      <td>1</td>\n",
       "    </tr>\n",
       "    <tr>\n",
       "      <th>2</th>\n",
       "      <td>05.01.2013</td>\n",
       "      <td>0</td>\n",
       "      <td>25</td>\n",
       "      <td>2552</td>\n",
       "      <td>899.00</td>\n",
       "      <td>-1</td>\n",
       "    </tr>\n",
       "    <tr>\n",
       "      <th>3</th>\n",
       "      <td>06.01.2013</td>\n",
       "      <td>0</td>\n",
       "      <td>25</td>\n",
       "      <td>2554</td>\n",
       "      <td>1709.05</td>\n",
       "      <td>1</td>\n",
       "    </tr>\n",
       "    <tr>\n",
       "      <th>4</th>\n",
       "      <td>15.01.2013</td>\n",
       "      <td>0</td>\n",
       "      <td>25</td>\n",
       "      <td>2555</td>\n",
       "      <td>1099.00</td>\n",
       "      <td>1</td>\n",
       "    </tr>\n",
       "    <tr>\n",
       "      <th>5</th>\n",
       "      <td>10.01.2013</td>\n",
       "      <td>0</td>\n",
       "      <td>25</td>\n",
       "      <td>2564</td>\n",
       "      <td>349.00</td>\n",
       "      <td>1</td>\n",
       "    </tr>\n",
       "    <tr>\n",
       "      <th>6</th>\n",
       "      <td>02.01.2013</td>\n",
       "      <td>0</td>\n",
       "      <td>25</td>\n",
       "      <td>2565</td>\n",
       "      <td>549.00</td>\n",
       "      <td>1</td>\n",
       "    </tr>\n",
       "    <tr>\n",
       "      <th>7</th>\n",
       "      <td>04.01.2013</td>\n",
       "      <td>0</td>\n",
       "      <td>25</td>\n",
       "      <td>2572</td>\n",
       "      <td>239.00</td>\n",
       "      <td>1</td>\n",
       "    </tr>\n",
       "    <tr>\n",
       "      <th>8</th>\n",
       "      <td>11.01.2013</td>\n",
       "      <td>0</td>\n",
       "      <td>25</td>\n",
       "      <td>2572</td>\n",
       "      <td>299.00</td>\n",
       "      <td>1</td>\n",
       "    </tr>\n",
       "    <tr>\n",
       "      <th>9</th>\n",
       "      <td>03.01.2013</td>\n",
       "      <td>0</td>\n",
       "      <td>25</td>\n",
       "      <td>2573</td>\n",
       "      <td>299.00</td>\n",
       "      <td>3</td>\n",
       "    </tr>\n",
       "  </tbody>\n",
       "</table>\n",
       "</div>"
      ],
      "text/plain": [
       "         date  date_block_num  shop_id  item_id  item_price  item_count\n",
       "0  02.01.2013               0       59    22154      999.00           1\n",
       "1  03.01.2013               0       25     2552      899.00           1\n",
       "2  05.01.2013               0       25     2552      899.00          -1\n",
       "3  06.01.2013               0       25     2554     1709.05           1\n",
       "4  15.01.2013               0       25     2555     1099.00           1\n",
       "5  10.01.2013               0       25     2564      349.00           1\n",
       "6  02.01.2013               0       25     2565      549.00           1\n",
       "7  04.01.2013               0       25     2572      239.00           1\n",
       "8  11.01.2013               0       25     2572      299.00           1\n",
       "9  03.01.2013               0       25     2573      299.00           3"
      ]
     },
     "execution_count": 57,
     "metadata": {},
     "output_type": "execute_result"
    }
   ],
   "source": [
    "train = pd.read_csv('sales_train.csv')\n",
    "train.head(10)"
   ]
  },
  {
   "cell_type": "code",
   "execution_count": 6,
   "id": "56fa423d",
   "metadata": {},
   "outputs": [
    {
     "data": {
      "text/plain": [
       "date              0\n",
       "date_block_num    0\n",
       "shop_id           0\n",
       "item_id           0\n",
       "item_price        0\n",
       "item_count        0\n",
       "dtype: int64"
      ]
     },
     "execution_count": 6,
     "metadata": {},
     "output_type": "execute_result"
    }
   ],
   "source": [
    "train.isnull().sum()"
   ]
  },
  {
   "cell_type": "code",
   "execution_count": 58,
   "id": "f245431a",
   "metadata": {
    "scrolled": true
   },
   "outputs": [
    {
     "data": {
      "text/plain": [
       "(1048575, 6)"
      ]
     },
     "execution_count": 58,
     "metadata": {},
     "output_type": "execute_result"
    }
   ],
   "source": [
    "train.shape"
   ]
  },
  {
   "cell_type": "code",
   "execution_count": 8,
   "id": "d4a84bde",
   "metadata": {},
   "outputs": [
    {
     "data": {
      "text/html": [
       "<div>\n",
       "<style scoped>\n",
       "    .dataframe tbody tr th:only-of-type {\n",
       "        vertical-align: middle;\n",
       "    }\n",
       "\n",
       "    .dataframe tbody tr th {\n",
       "        vertical-align: top;\n",
       "    }\n",
       "\n",
       "    .dataframe thead th {\n",
       "        text-align: right;\n",
       "    }\n",
       "</style>\n",
       "<table border=\"1\" class=\"dataframe\">\n",
       "  <thead>\n",
       "    <tr style=\"text-align: right;\">\n",
       "      <th></th>\n",
       "      <th>item_id</th>\n",
       "      <th>item_category_id</th>\n",
       "    </tr>\n",
       "  </thead>\n",
       "  <tbody>\n",
       "    <tr>\n",
       "      <th>0</th>\n",
       "      <td>0</td>\n",
       "      <td>40</td>\n",
       "    </tr>\n",
       "    <tr>\n",
       "      <th>1</th>\n",
       "      <td>1</td>\n",
       "      <td>76</td>\n",
       "    </tr>\n",
       "    <tr>\n",
       "      <th>2</th>\n",
       "      <td>2</td>\n",
       "      <td>40</td>\n",
       "    </tr>\n",
       "    <tr>\n",
       "      <th>3</th>\n",
       "      <td>3</td>\n",
       "      <td>40</td>\n",
       "    </tr>\n",
       "    <tr>\n",
       "      <th>4</th>\n",
       "      <td>4</td>\n",
       "      <td>40</td>\n",
       "    </tr>\n",
       "    <tr>\n",
       "      <th>5</th>\n",
       "      <td>5</td>\n",
       "      <td>40</td>\n",
       "    </tr>\n",
       "    <tr>\n",
       "      <th>6</th>\n",
       "      <td>6</td>\n",
       "      <td>40</td>\n",
       "    </tr>\n",
       "    <tr>\n",
       "      <th>7</th>\n",
       "      <td>7</td>\n",
       "      <td>40</td>\n",
       "    </tr>\n",
       "    <tr>\n",
       "      <th>8</th>\n",
       "      <td>8</td>\n",
       "      <td>40</td>\n",
       "    </tr>\n",
       "    <tr>\n",
       "      <th>9</th>\n",
       "      <td>9</td>\n",
       "      <td>40</td>\n",
       "    </tr>\n",
       "  </tbody>\n",
       "</table>\n",
       "</div>"
      ],
      "text/plain": [
       "   item_id  item_category_id\n",
       "0        0                40\n",
       "1        1                76\n",
       "2        2                40\n",
       "3        3                40\n",
       "4        4                40\n",
       "5        5                40\n",
       "6        6                40\n",
       "7        7                40\n",
       "8        8                40\n",
       "9        9                40"
      ]
     },
     "execution_count": 8,
     "metadata": {},
     "output_type": "execute_result"
    }
   ],
   "source": [
    "items = pd.read_csv('items.csv')\n",
    "del items['item_name']\n",
    "items.drop_duplicates()\n",
    "items.head(10)"
   ]
  },
  {
   "cell_type": "code",
   "execution_count": 9,
   "id": "98094b9a",
   "metadata": {},
   "outputs": [
    {
     "data": {
      "text/plain": [
       "(22170, 2)"
      ]
     },
     "execution_count": 9,
     "metadata": {},
     "output_type": "execute_result"
    }
   ],
   "source": [
    "items.shape"
   ]
  },
  {
   "cell_type": "code",
   "execution_count": 10,
   "id": "a2dd5b23",
   "metadata": {},
   "outputs": [
    {
     "data": {
      "text/html": [
       "<div>\n",
       "<style scoped>\n",
       "    .dataframe tbody tr th:only-of-type {\n",
       "        vertical-align: middle;\n",
       "    }\n",
       "\n",
       "    .dataframe tbody tr th {\n",
       "        vertical-align: top;\n",
       "    }\n",
       "\n",
       "    .dataframe thead th {\n",
       "        text-align: right;\n",
       "    }\n",
       "</style>\n",
       "<table border=\"1\" class=\"dataframe\">\n",
       "  <thead>\n",
       "    <tr style=\"text-align: right;\">\n",
       "      <th></th>\n",
       "      <th>ID</th>\n",
       "      <th>shop_id</th>\n",
       "      <th>item_id</th>\n",
       "    </tr>\n",
       "  </thead>\n",
       "  <tbody>\n",
       "    <tr>\n",
       "      <th>0</th>\n",
       "      <td>0</td>\n",
       "      <td>5</td>\n",
       "      <td>5037</td>\n",
       "    </tr>\n",
       "    <tr>\n",
       "      <th>1</th>\n",
       "      <td>1</td>\n",
       "      <td>5</td>\n",
       "      <td>5320</td>\n",
       "    </tr>\n",
       "    <tr>\n",
       "      <th>2</th>\n",
       "      <td>2</td>\n",
       "      <td>5</td>\n",
       "      <td>5233</td>\n",
       "    </tr>\n",
       "    <tr>\n",
       "      <th>3</th>\n",
       "      <td>3</td>\n",
       "      <td>5</td>\n",
       "      <td>5232</td>\n",
       "    </tr>\n",
       "    <tr>\n",
       "      <th>4</th>\n",
       "      <td>4</td>\n",
       "      <td>5</td>\n",
       "      <td>5268</td>\n",
       "    </tr>\n",
       "    <tr>\n",
       "      <th>5</th>\n",
       "      <td>5</td>\n",
       "      <td>5</td>\n",
       "      <td>5039</td>\n",
       "    </tr>\n",
       "    <tr>\n",
       "      <th>6</th>\n",
       "      <td>6</td>\n",
       "      <td>5</td>\n",
       "      <td>5041</td>\n",
       "    </tr>\n",
       "    <tr>\n",
       "      <th>7</th>\n",
       "      <td>7</td>\n",
       "      <td>5</td>\n",
       "      <td>5046</td>\n",
       "    </tr>\n",
       "    <tr>\n",
       "      <th>8</th>\n",
       "      <td>8</td>\n",
       "      <td>5</td>\n",
       "      <td>5319</td>\n",
       "    </tr>\n",
       "    <tr>\n",
       "      <th>9</th>\n",
       "      <td>9</td>\n",
       "      <td>5</td>\n",
       "      <td>5003</td>\n",
       "    </tr>\n",
       "  </tbody>\n",
       "</table>\n",
       "</div>"
      ],
      "text/plain": [
       "   ID  shop_id  item_id\n",
       "0   0        5     5037\n",
       "1   1        5     5320\n",
       "2   2        5     5233\n",
       "3   3        5     5232\n",
       "4   4        5     5268\n",
       "5   5        5     5039\n",
       "6   6        5     5041\n",
       "7   7        5     5046\n",
       "8   8        5     5319\n",
       "9   9        5     5003"
      ]
     },
     "execution_count": 10,
     "metadata": {},
     "output_type": "execute_result"
    }
   ],
   "source": [
    "test = pd.read_csv('test.csv')\n",
    "test.head(10)"
   ]
  },
  {
   "cell_type": "code",
   "execution_count": 11,
   "id": "1ab2b127",
   "metadata": {},
   "outputs": [
    {
     "data": {
      "text/plain": [
       "(214200, 3)"
      ]
     },
     "execution_count": 11,
     "metadata": {},
     "output_type": "execute_result"
    }
   ],
   "source": [
    "test.shape"
   ]
  },
  {
   "cell_type": "code",
   "execution_count": 67,
   "id": "db0f9073",
   "metadata": {},
   "outputs": [],
   "source": [
    "def clean_data(df):\n",
    "    data = df\n",
    "    target = []\n",
    "    data.drop_duplicates()\n",
    "    if 'date' in data:\n",
    "        del data['date']\n",
    "    if 'date_block_num' in data:\n",
    "        recentNumber = 0\n",
    "        for index in data.size:\n",
    "            currentNumber = data['date_block_num'][index]\n",
    "            if recentNumber == number:\n",
    "                # check if combination shop_id and item_id exists, if it does add count else add new combination and add count\n",
    "                \n",
    "                \n",
    "        del data['date_block_num']\n",
    "    \n",
    "    if 'item_price' in data:\n",
    "        del data['item_price']\n",
    "    \n",
    "    if 'item_count' in data:\n",
    "        target = data['item_count']\n",
    "        data =  data.drop(columns=['item_count'])\n",
    "        \n",
    "    if 'ID' in data:\n",
    "        target = data['ID']\n",
    "#         data = data.drop(columns=['ID'])\n",
    "#         prices = X.drop_duplicates(subset=['item_id'])[['item_id', 'item_price']]\n",
    "#         data = data.drop_duplicates(subset=['item_id])\n",
    "    \n",
    "        \n",
    "    data = data.merge(items, on='item_id', how='inner')\n",
    "    return data, target"
   ]
  },
  {
   "cell_type": "code",
   "execution_count": 68,
   "id": "7256d29a",
   "metadata": {},
   "outputs": [],
   "source": [
    "X, y = clean_data(train)"
   ]
  },
  {
   "cell_type": "code",
   "execution_count": 32,
   "id": "37b54721",
   "metadata": {},
   "outputs": [
    {
     "data": {
      "text/html": [
       "<div>\n",
       "<style scoped>\n",
       "    .dataframe tbody tr th:only-of-type {\n",
       "        vertical-align: middle;\n",
       "    }\n",
       "\n",
       "    .dataframe tbody tr th {\n",
       "        vertical-align: top;\n",
       "    }\n",
       "\n",
       "    .dataframe thead th {\n",
       "        text-align: right;\n",
       "    }\n",
       "</style>\n",
       "<table border=\"1\" class=\"dataframe\">\n",
       "  <thead>\n",
       "    <tr style=\"text-align: right;\">\n",
       "      <th></th>\n",
       "      <th>shop_id</th>\n",
       "      <th>item_id</th>\n",
       "      <th>item_category_id</th>\n",
       "    </tr>\n",
       "  </thead>\n",
       "  <tbody>\n",
       "    <tr>\n",
       "      <th>0</th>\n",
       "      <td>59</td>\n",
       "      <td>22154</td>\n",
       "      <td>37</td>\n",
       "    </tr>\n",
       "    <tr>\n",
       "      <th>1</th>\n",
       "      <td>24</td>\n",
       "      <td>22154</td>\n",
       "      <td>37</td>\n",
       "    </tr>\n",
       "    <tr>\n",
       "      <th>2</th>\n",
       "      <td>27</td>\n",
       "      <td>22154</td>\n",
       "      <td>37</td>\n",
       "    </tr>\n",
       "    <tr>\n",
       "      <th>3</th>\n",
       "      <td>25</td>\n",
       "      <td>22154</td>\n",
       "      <td>37</td>\n",
       "    </tr>\n",
       "    <tr>\n",
       "      <th>4</th>\n",
       "      <td>25</td>\n",
       "      <td>22154</td>\n",
       "      <td>37</td>\n",
       "    </tr>\n",
       "    <tr>\n",
       "      <th>...</th>\n",
       "      <td>...</td>\n",
       "      <td>...</td>\n",
       "      <td>...</td>\n",
       "    </tr>\n",
       "    <tr>\n",
       "      <th>1048570</th>\n",
       "      <td>35</td>\n",
       "      <td>2797</td>\n",
       "      <td>23</td>\n",
       "    </tr>\n",
       "    <tr>\n",
       "      <th>1048571</th>\n",
       "      <td>31</td>\n",
       "      <td>20866</td>\n",
       "      <td>72</td>\n",
       "    </tr>\n",
       "    <tr>\n",
       "      <th>1048572</th>\n",
       "      <td>31</td>\n",
       "      <td>20203</td>\n",
       "      <td>40</td>\n",
       "    </tr>\n",
       "    <tr>\n",
       "      <th>1048573</th>\n",
       "      <td>41</td>\n",
       "      <td>7963</td>\n",
       "      <td>15</td>\n",
       "    </tr>\n",
       "    <tr>\n",
       "      <th>1048574</th>\n",
       "      <td>41</td>\n",
       "      <td>16591</td>\n",
       "      <td>40</td>\n",
       "    </tr>\n",
       "  </tbody>\n",
       "</table>\n",
       "<p>1048575 rows × 3 columns</p>\n",
       "</div>"
      ],
      "text/plain": [
       "         shop_id  item_id  item_category_id\n",
       "0             59    22154                37\n",
       "1             24    22154                37\n",
       "2             27    22154                37\n",
       "3             25    22154                37\n",
       "4             25    22154                37\n",
       "...          ...      ...               ...\n",
       "1048570       35     2797                23\n",
       "1048571       31    20866                72\n",
       "1048572       31    20203                40\n",
       "1048573       41     7963                15\n",
       "1048574       41    16591                40\n",
       "\n",
       "[1048575 rows x 3 columns]"
      ]
     },
     "execution_count": 32,
     "metadata": {},
     "output_type": "execute_result"
    }
   ],
   "source": [
    "X"
   ]
  },
  {
   "cell_type": "code",
   "execution_count": 33,
   "id": "78229385",
   "metadata": {},
   "outputs": [
    {
     "data": {
      "text/plain": [
       "0          1\n",
       "1          1\n",
       "2         -1\n",
       "3          1\n",
       "4          1\n",
       "          ..\n",
       "1048570    1\n",
       "1048571    1\n",
       "1048572    1\n",
       "1048573    1\n",
       "1048574    1\n",
       "Name: item_count, Length: 1048575, dtype: int64"
      ]
     },
     "execution_count": 33,
     "metadata": {},
     "output_type": "execute_result"
    }
   ],
   "source": [
    "y"
   ]
  },
  {
   "cell_type": "code",
   "execution_count": 53,
   "id": "3a4a7827",
   "metadata": {
    "scrolled": true
   },
   "outputs": [],
   "source": [
    "X_real_test, id_list = clean_data(test)"
   ]
  },
  {
   "cell_type": "code",
   "execution_count": 54,
   "id": "b53414c6",
   "metadata": {},
   "outputs": [
    {
     "data": {
      "text/plain": [
       "0              0\n",
       "1              1\n",
       "2              2\n",
       "3              3\n",
       "4              4\n",
       "           ...  \n",
       "214195    214195\n",
       "214196    214196\n",
       "214197    214197\n",
       "214198    214198\n",
       "214199    214199\n",
       "Name: ID, Length: 214200, dtype: int64"
      ]
     },
     "execution_count": 54,
     "metadata": {},
     "output_type": "execute_result"
    }
   ],
   "source": [
    "id_list"
   ]
  },
  {
   "cell_type": "code",
   "execution_count": 55,
   "id": "b1b03d62",
   "metadata": {},
   "outputs": [
    {
     "data": {
      "text/plain": [
       "(214200, 4)"
      ]
     },
     "execution_count": 55,
     "metadata": {},
     "output_type": "execute_result"
    }
   ],
   "source": [
    "X_real_test.shape"
   ]
  },
  {
   "cell_type": "code",
   "execution_count": 39,
   "id": "ade11f05",
   "metadata": {},
   "outputs": [],
   "source": [
    "from sklearn.model_selection import train_test_split\n",
    "X_train, X_test, y_train, y_test = train_test_split(X, y, test_size=0.2, random_state=42)"
   ]
  },
  {
   "cell_type": "code",
   "execution_count": 40,
   "id": "3f022823",
   "metadata": {},
   "outputs": [
    {
     "data": {
      "text/plain": [
       "<AxesSubplot:title={'center':'Pearson correlation of features'}>"
      ]
     },
     "execution_count": 40,
     "metadata": {},
     "output_type": "execute_result"
    },
    {
     "data": {
      "image/png": "[encoded data removed]",
      "text/plain": [
       "<Figure size 1152x1152 with 2 Axes>"
      ]
     },
     "metadata": {
      "needs_background": "light"
     },
     "output_type": "display_data"
    }
   ],
   "source": [
    "import matplotlib.pyplot as plt\n",
    "import seaborn as sns\n",
    "colormap = plt.cm.RdBu\n",
    "plt.figure(figsize=(16,16))\n",
    "plt.title('Pearson correlation of features')\n",
    "sns.heatmap(X_train.astype(float).corr(), annot=True)"
   ]
  },
  {
   "cell_type": "code",
   "execution_count": 41,
   "id": "4f6c91fa",
   "metadata": {},
   "outputs": [],
   "source": [
    "estimators = []\n",
    "accuracies = {}"
   ]
  },
  {
   "cell_type": "code",
   "execution_count": 42,
   "id": "7a8c219e",
   "metadata": {},
   "outputs": [],
   "source": [
    "class RegressionModel(object):\n",
    "    def __init__(self, name, reg, params=None):\n",
    "        self.reg = reg(**params)\n",
    "        self.name = name\n",
    "\n",
    "    def train(self):\n",
    "        self.reg.fit(X_train, y_train)\n",
    "    \n",
    "    def fit(self):\n",
    "        return self.reg.fit(X_train, y_train)\n",
    "    \n",
    "    def fitEnsemble(self, X, y):\n",
    "        return self.reg.fit(X, y)\n",
    "    \n",
    "    def feature_importances(self):\n",
    "        return self.reg.fit(X_fake_test, y_fake_test).feature_importances_\n",
    "    \n",
    "    def predict(self, x):\n",
    "        return self.reg.predict(x)\n",
    "    \n",
    "    def predict_test(self):\n",
    "        temp = X_real_test.drop(columns='ID')\n",
    "        test_ypred = self.reg.predict(temp)\n",
    "        output = pd.DataFrame({'ID': X_real_test['ID'],\n",
    "                      \"item_cnt_day\": test_ypred})\n",
    "        \n",
    "        output.to_csv('Submission_'+ self.name +'.csv', index= False)\n",
    "        return output"
   ]
  },
  {
   "cell_type": "code",
   "execution_count": 43,
   "id": "bd427602",
   "metadata": {},
   "outputs": [],
   "source": [
    "from sklearn.metrics import accuracy_score\n",
    "from sklearn.metrics import r2_score, mean_absolute_error, mean_squared_error\n",
    "\n",
    "def trainModel(model):\n",
    "    estimators.append((model.name, model.reg))\n",
    "    model.fit()\n",
    "    scores = [0.0, 0.0, 0.0]\n",
    "#     features = model.feature_importances()\n",
    "    test_ypred = model.predict(X_test)\n",
    "    scores[0] = r2_score(y_test, test_ypred)\n",
    "    scores[1] = mean_absolute_error(y_test, test_ypred)\n",
    "    scores[2] = np.sqrt(mean_squared_error(y_test, test_ypred))\n",
    "    accuracies[model.name] = scores\n",
    "    return scores, test_ypred"
   ]
  },
  {
   "cell_type": "code",
   "execution_count": 44,
   "id": "6699af36",
   "metadata": {},
   "outputs": [
    {
     "data": {
      "text/plain": [
       "[8.983027588582715e-05, 0.40427933595990917, 1.5488940233570745]"
      ]
     },
     "execution_count": 44,
     "metadata": {},
     "output_type": "execute_result"
    }
   ],
   "source": [
    "from sklearn.linear_model import LinearRegression\n",
    "lr_params = {\n",
    "    'n_jobs': -1,\n",
    "    \n",
    "}\n",
    "lr_model = RegressionModel(name='Linear', reg=LinearRegression, params=lr_params)\n",
    "lr_scores, lr_predtest = trainModel(lr_model)\n",
    "lr_scores"
   ]
  },
  {
   "cell_type": "code",
   "execution_count": 45,
   "id": "6405c09d",
   "metadata": {},
   "outputs": [
    {
     "data": {
      "text/plain": [
       "[0.001875020347393841, 0.4036055647199507, 1.5475107463518738]"
      ]
     },
     "execution_count": 45,
     "metadata": {},
     "output_type": "execute_result"
    }
   ],
   "source": [
    "from sklearn.ensemble import RandomForestRegressor\n",
    "\n",
    "# Random Forest parameters\n",
    "rfr_params = {\n",
    "    'n_estimators': 400,\n",
    "    'max_depth': 5,\n",
    "    'min_samples_leaf': 3,\n",
    "    'max_features' : 'sqrt',\n",
    "}\n",
    "rfr_model = RegressionModel(name='Random_Forest', reg=RandomForestRegressor, params=rfr_params)\n",
    "rfr_scores, rfr_predtest = trainModel(rfr_model)\n",
    "rfr_scores"
   ]
  },
  {
   "cell_type": "code",
   "execution_count": 21,
   "id": "ff8f82d6",
   "metadata": {},
   "outputs": [
    {
     "data": {
      "text/plain": [
       "[0.0007382641440280002, 0.403974673831563, 1.5483917191225176]"
      ]
     },
     "execution_count": 21,
     "metadata": {},
     "output_type": "execute_result"
    }
   ],
   "source": [
    "from sklearn.ensemble import ExtraTreesRegressor\n",
    "\n",
    "# Extra Trees Parameters\n",
    "et_params = {\n",
    "    'n_jobs': -1,\n",
    "    'n_estimators':400,\n",
    "    'max_depth': 5,\n",
    "    'min_samples_leaf': 2,\n",
    "}\n",
    "etr_model = RegressionModel(name='Extra_Trees', reg=ExtraTreesRegressor, params=et_params)\n",
    "etr_scores, etr_predtest = trainModel(etr_model)\n",
    "etr_scores"
   ]
  },
  {
   "cell_type": "code",
   "execution_count": 22,
   "id": "bac632f5",
   "metadata": {},
   "outputs": [
    {
     "data": {
      "text/plain": [
       "[-0.06691835976273985, 0.38080746811652144, 1.599951454539656]"
      ]
     },
     "execution_count": 22,
     "metadata": {},
     "output_type": "execute_result"
    }
   ],
   "source": [
    "from sklearn.ensemble import BaggingRegressor\n",
    "\n",
    "# Bagging Regressor Parameters\n",
    "br_params = {\n",
    "    'n_jobs': -1,\n",
    "    'n_estimators':400,\n",
    "}\n",
    "br_model = RegressionModel(name='Bagging', reg=BaggingRegressor, params=br_params)\n",
    "br_scores, br_predtest = trainModel(br_model)\n",
    "br_scores"
   ]
  },
  {
   "cell_type": "code",
   "execution_count": 46,
   "id": "0e113dd0",
   "metadata": {},
   "outputs": [
    {
     "data": {
      "text/plain": [
       "[0.04116685555137434, 0.39056753781897807, 1.5167455530041687]"
      ]
     },
     "execution_count": 46,
     "metadata": {},
     "output_type": "execute_result"
    }
   ],
   "source": [
    "import xgboost as xgb\n",
    "\n",
    "xgb_params = {\n",
    "}\n",
    "xgb_model = RegressionModel(name='X_Boost', reg=xgb.XGBRegressor, params=xgb_params)\n",
    "xgb_scores, xgb_predtest = trainModel(xgb_model)\n",
    "xgb_scores"
   ]
  },
  {
   "cell_type": "code",
   "execution_count": 47,
   "id": "2e15c07a",
   "metadata": {},
   "outputs": [
    {
     "data": {
      "text/plain": [
       "[0.02344486025707304, 0.3981609602837049, 1.5306982874423338]"
      ]
     },
     "execution_count": 47,
     "metadata": {},
     "output_type": "execute_result"
    }
   ],
   "source": [
    "from sklearn.ensemble import GradientBoostingRegressor\n",
    "\n",
    "gbr_params = {\n",
    "    'learning_rate': 0.1,\n",
    "    'n_estimators': 400,\n",
    "    'criterion': 'squared_error'\n",
    "}\n",
    "gbr_model = RegressionModel(name='Gradient_Boosting', reg=GradientBoostingRegressor, params=gbr_params)\n",
    "gbr_scores, gbr_predtest = trainModel(gbr_model)\n",
    "gbr_scores"
   ]
  },
  {
   "cell_type": "code",
   "execution_count": 48,
   "id": "bc0b47f3",
   "metadata": {},
   "outputs": [],
   "source": [
    "def extract(index):\n",
    "    return [item[index] for item in list(accuracies.values())]"
   ]
  },
  {
   "cell_type": "code",
   "execution_count": 49,
   "id": "7b02b445",
   "metadata": {},
   "outputs": [],
   "source": [
    "model_accuracies=pd.DataFrame({'Models': accuracies.keys(),\n",
    "                               'R2': extract(0),\n",
    "                               'Mean Absolute Error': extract(1),\n",
    "                                'Mean Squared Error': extract(2)})"
   ]
  },
  {
   "cell_type": "code",
   "execution_count": 50,
   "id": "7f5d3b17",
   "metadata": {},
   "outputs": [
    {
     "data": {
      "text/html": [
       "<style type=\"text/css\">\n",
       "#T_3e403_row0_col1, #T_3e403_row3_col2, #T_3e403_row3_col3 {\n",
       "  background-color: #08306b;\n",
       "  color: #f1f1f1;\n",
       "}\n",
       "#T_3e403_row0_col2, #T_3e403_row0_col3, #T_3e403_row3_col1 {\n",
       "  background-color: #f7fbff;\n",
       "  color: #000000;\n",
       "}\n",
       "#T_3e403_row1_col1 {\n",
       "  background-color: #549fcd;\n",
       "  color: #f1f1f1;\n",
       "}\n",
       "#T_3e403_row1_col2 {\n",
       "  background-color: #5aa2cf;\n",
       "  color: #f1f1f1;\n",
       "}\n",
       "#T_3e403_row1_col3 {\n",
       "  background-color: #85bcdc;\n",
       "  color: #000000;\n",
       "}\n",
       "#T_3e403_row2_col1 {\n",
       "  background-color: #eef5fc;\n",
       "  color: #000000;\n",
       "}\n",
       "#T_3e403_row2_col2 {\n",
       "  background-color: #083c7d;\n",
       "  color: #f1f1f1;\n",
       "}\n",
       "#T_3e403_row2_col3 {\n",
       "  background-color: #083b7c;\n",
       "  color: #f1f1f1;\n",
       "}\n",
       "</style>\n",
       "<table id=\"T_3e403\">\n",
       "  <thead>\n",
       "    <tr>\n",
       "      <th class=\"blank level0\" >&nbsp;</th>\n",
       "      <th id=\"T_3e403_level0_col0\" class=\"col_heading level0 col0\" >Models</th>\n",
       "      <th id=\"T_3e403_level0_col1\" class=\"col_heading level0 col1\" >R2</th>\n",
       "      <th id=\"T_3e403_level0_col2\" class=\"col_heading level0 col2\" >Mean Absolute Error</th>\n",
       "      <th id=\"T_3e403_level0_col3\" class=\"col_heading level0 col3\" >Mean Squared Error</th>\n",
       "    </tr>\n",
       "  </thead>\n",
       "  <tbody>\n",
       "    <tr>\n",
       "      <th id=\"T_3e403_level0_row0\" class=\"row_heading level0 row0\" >0</th>\n",
       "      <td id=\"T_3e403_row0_col0\" class=\"data row0 col0\" >X_Boost</td>\n",
       "      <td id=\"T_3e403_row0_col1\" class=\"data row0 col1\" >0.041167</td>\n",
       "      <td id=\"T_3e403_row0_col2\" class=\"data row0 col2\" >0.390568</td>\n",
       "      <td id=\"T_3e403_row0_col3\" class=\"data row0 col3\" >1.516746</td>\n",
       "    </tr>\n",
       "    <tr>\n",
       "      <th id=\"T_3e403_level0_row1\" class=\"row_heading level0 row1\" >1</th>\n",
       "      <td id=\"T_3e403_row1_col0\" class=\"data row1 col0\" >Gradient_Boosting</td>\n",
       "      <td id=\"T_3e403_row1_col1\" class=\"data row1 col1\" >0.023445</td>\n",
       "      <td id=\"T_3e403_row1_col2\" class=\"data row1 col2\" >0.398161</td>\n",
       "      <td id=\"T_3e403_row1_col3\" class=\"data row1 col3\" >1.530698</td>\n",
       "    </tr>\n",
       "    <tr>\n",
       "      <th id=\"T_3e403_level0_row2\" class=\"row_heading level0 row2\" >2</th>\n",
       "      <td id=\"T_3e403_row2_col0\" class=\"data row2 col0\" >Random_Forest</td>\n",
       "      <td id=\"T_3e403_row2_col1\" class=\"data row2 col1\" >0.001875</td>\n",
       "      <td id=\"T_3e403_row2_col2\" class=\"data row2 col2\" >0.403606</td>\n",
       "      <td id=\"T_3e403_row2_col3\" class=\"data row2 col3\" >1.547511</td>\n",
       "    </tr>\n",
       "    <tr>\n",
       "      <th id=\"T_3e403_level0_row3\" class=\"row_heading level0 row3\" >3</th>\n",
       "      <td id=\"T_3e403_row3_col0\" class=\"data row3 col0\" >Linear</td>\n",
       "      <td id=\"T_3e403_row3_col1\" class=\"data row3 col1\" >0.000090</td>\n",
       "      <td id=\"T_3e403_row3_col2\" class=\"data row3 col2\" >0.404279</td>\n",
       "      <td id=\"T_3e403_row3_col3\" class=\"data row3 col3\" >1.548894</td>\n",
       "    </tr>\n",
       "  </tbody>\n",
       "</table>\n"
      ],
      "text/plain": [
       "<pandas.io.formats.style.Styler at 0x1f170207310>"
      ]
     },
     "execution_count": 50,
     "metadata": {},
     "output_type": "execute_result"
    }
   ],
   "source": [
    "model_accuracies.sort_values(by='Mean Squared Error',ascending=True,ignore_index=True).style.background_gradient(cmap='Blues')"
   ]
  },
  {
   "cell_type": "code",
   "execution_count": 56,
   "id": "a45e84be",
   "metadata": {},
   "outputs": [
    {
     "data": {
      "text/html": [
       "<div>\n",
       "<style scoped>\n",
       "    .dataframe tbody tr th:only-of-type {\n",
       "        vertical-align: middle;\n",
       "    }\n",
       "\n",
       "    .dataframe tbody tr th {\n",
       "        vertical-align: top;\n",
       "    }\n",
       "\n",
       "    .dataframe thead th {\n",
       "        text-align: right;\n",
       "    }\n",
       "</style>\n",
       "<table border=\"1\" class=\"dataframe\">\n",
       "  <thead>\n",
       "    <tr style=\"text-align: right;\">\n",
       "      <th></th>\n",
       "      <th>ID</th>\n",
       "      <th>item_cnt_day</th>\n",
       "    </tr>\n",
       "  </thead>\n",
       "  <tbody>\n",
       "    <tr>\n",
       "      <th>0</th>\n",
       "      <td>0</td>\n",
       "      <td>1.129601</td>\n",
       "    </tr>\n",
       "    <tr>\n",
       "      <th>1</th>\n",
       "      <td>5100</td>\n",
       "      <td>1.129601</td>\n",
       "    </tr>\n",
       "    <tr>\n",
       "      <th>2</th>\n",
       "      <td>10200</td>\n",
       "      <td>1.118245</td>\n",
       "    </tr>\n",
       "    <tr>\n",
       "      <th>3</th>\n",
       "      <td>15300</td>\n",
       "      <td>1.129601</td>\n",
       "    </tr>\n",
       "    <tr>\n",
       "      <th>4</th>\n",
       "      <td>20400</td>\n",
       "      <td>1.129601</td>\n",
       "    </tr>\n",
       "    <tr>\n",
       "      <th>...</th>\n",
       "      <td>...</td>\n",
       "      <td>...</td>\n",
       "    </tr>\n",
       "    <tr>\n",
       "      <th>214195</th>\n",
       "      <td>193799</td>\n",
       "      <td>1.031646</td>\n",
       "    </tr>\n",
       "    <tr>\n",
       "      <th>214196</th>\n",
       "      <td>198899</td>\n",
       "      <td>1.028604</td>\n",
       "    </tr>\n",
       "    <tr>\n",
       "      <th>214197</th>\n",
       "      <td>203999</td>\n",
       "      <td>1.049052</td>\n",
       "    </tr>\n",
       "    <tr>\n",
       "      <th>214198</th>\n",
       "      <td>209099</td>\n",
       "      <td>1.028604</td>\n",
       "    </tr>\n",
       "    <tr>\n",
       "      <th>214199</th>\n",
       "      <td>214199</td>\n",
       "      <td>1.023032</td>\n",
       "    </tr>\n",
       "  </tbody>\n",
       "</table>\n",
       "<p>214200 rows × 2 columns</p>\n",
       "</div>"
      ],
      "text/plain": [
       "            ID  item_cnt_day\n",
       "0            0      1.129601\n",
       "1         5100      1.129601\n",
       "2        10200      1.118245\n",
       "3        15300      1.129601\n",
       "4        20400      1.129601\n",
       "...        ...           ...\n",
       "214195  193799      1.031646\n",
       "214196  198899      1.028604\n",
       "214197  203999      1.049052\n",
       "214198  209099      1.028604\n",
       "214199  214199      1.023032\n",
       "\n",
       "[214200 rows x 2 columns]"
      ]
     },
     "execution_count": 56,
     "metadata": {},
     "output_type": "execute_result"
    }
   ],
   "source": [
    "xgb_model.predict_test()"
   ]
  },
  {
   "cell_type": "code",
   "execution_count": null,
   "id": "9fa04600",
   "metadata": {},
   "outputs": [],
   "source": []
  }
 ],
 "metadata": {
  "kernelspec": {
   "display_name": "Python 3 (ipykernel)",
   "language": "python",
   "name": "python3"
  },
  "language_info": {
   "codemirror_mode": {
    "name": "ipython",
    "version": 3
   },
   "file_extension": ".py",
   "mimetype": "text/x-python",
   "name": "python",
   "nbconvert_exporter": "python",
   "pygments_lexer": "ipython3",
   "version": "3.9.12"
  }
 },
 "nbformat": 4,
 "nbformat_minor": 5
}
